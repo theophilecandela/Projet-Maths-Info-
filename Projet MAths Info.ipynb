{
 "cells": [
  {
   "cell_type": "markdown",
   "metadata": {},
   "source": [
    "\n",
    "# __Projet numérique:__ Lignes de niveau\n",
    "---\n",
    "\n",
    "\n",
    "## Contour simple\n",
    "\n",
    "On fixe $x = 0$. On peut donc se ramener à une fonction de la variable réelle $g:y \\to f(0,y) $ \n",
    "\n",
    "g étant continue, on utilise la conclusion du `Théorème des valeurs intermediaires` pour poser comme condition raisonnable\n",
    "$ (f(0,1) -c) * (f(0,0) - c) < 0 $\n",
    "ie $ c \\in g([0,1])$"
   ]
  },
  {
   "cell_type": "markdown",
   "metadata": {},
   "source": [
    "Soit $ \\varepsilon > 0 $                \n",
    "Assurés de l'existence de $t_{0}$ tel que $ f(0,t_{0}) = c $, on souhaite trouver $ t, |t-t_{0}|< \\varepsilon $ Pour trouver un tel t, on va utiliser la méthode des secantes (on suppose g suffisamment régulière pour ne pas sortir de l'intervalle )\n",
    "\n",
    "Soient $y_{0}, y_{1}$ deux points dans un voisinage de $t_{0}$,\n",
    "on construit alors une suite de points que l'on espère convergente vers $t_{0}$, telle que:   \n",
    "\n",
    "$\\forall n \\in \\mathbb{N}, y$<sub>$n+2$</sub> $= y$<sub>$n$</sub>$ \\ -\\  f(y$<sub>$n$</sub>$) * \\frac{(y_{n+1} - y_{n})}{f(y_{n+1}) - f(y_{n})} $\n",
    "   "
   ]
  },
  {
   "cell_type": "code",
   "execution_count": 89,
   "metadata": {},
   "outputs": [],
   "source": [
    "import math as m\n",
    "import itertools as iter\n",
    "import autograd \n",
    "from autograd import numpy as np\n",
    "import matplotlib.pyplot as plt"
   ]
  },
  {
   "cell_type": "code",
   "execution_count": 90,
   "metadata": {},
   "outputs": [
    {
     "data": {
      "image/png": "[encoded data removed]",
      "text/plain": [
       "<Figure size 432x288 with 1 Axes>"
      ]
     },
     "metadata": {},
     "output_type": "display_data"
    }
   ],
   "source": [
    "#Illustration de la méthode des sécantes:\n",
    "\n",
    "f = np.vectorize(lambda x : x ** 2 -1)\n",
    "#secante en xo = 0 et x1 = 2\n",
    "g = np.vectorize(lambda x : ((f(2) - f(0)) / ( 2 - 0)) * (x - 0) + f(0))\n",
    "\n",
    "#graphe:\n",
    "x = np.linspace(-0.5,2.5)\n",
    "y = f(x)\n",
    "z = g(x)\n",
    "a = np.zeros(len(x))\n",
    "\n",
    "plt.plot(x,y, label = 'f(x)', color = 'blue')\n",
    "plt.plot(x,z, label = 'g(x)', color = 'purple')\n",
    "plt.plot(x,a, color = 'black')\n",
    "plt.scatter([0.5, 0, 2], [0, -1, 3], color = 'red')\n",
    "\n",
    "\n",
    "plt.annotate('xn+2', xy=(0.5, 0), xytext=(0.25, 0.75), arrowprops=dict())\n",
    "plt.annotate('xn', xy=(0, -1), xytext=(0.1, -2), arrowprops=dict())\n",
    "plt.annotate('xn+1', xy=(2, 3), xytext=(1.5, 3.3), arrowprops=dict())\n",
    "\n",
    "plt.show()\n",
    "\n"
   ]
  },
  {
   "cell_type": "markdown",
   "metadata": {},
   "source": [
    "> **Définition de *find_seed* **  \n",
    "        Specification $ : fonction \\to float \\to float \\to float $"
   ]
  },
  {
   "cell_type": "code",
   "execution_count": 91,
   "metadata": {},
   "outputs": [],
   "source": [
    "def find_seed(f, c = 0, eps = 2**(-26)):\n",
    "    #methode des sécantes\n",
    "    g = lambda y : f(0,y)\n",
    "    \n",
    "    if (c -g(0)) * (c -g(1)) > 0:\n",
    "        return None\n",
    "    \n",
    "    elif (c -g(0)) * (c -g(1)) == 0:\n",
    "        return 1. * ((c -g(1)) == 0)\n",
    "    \n",
    "    else:\n",
    "        a , b = 0, 1\n",
    "        while abs(b - a) > eps: \n",
    "        #ne serait-il pas judicieux de tester aussi une condition sur (g(b) -c)?\n",
    "            a, b = b, a - (b - a) / (g(b) - g(a)) * g(a)\n",
    "        return b"
   ]
  },
  {
   "cell_type": "markdown",
   "metadata": {},
   "source": [
    "## Propagation"
   ]
  },
  {
   "cell_type": "markdown",
   "metadata": {},
   "source": [
    "On commence par définir quelques fonctions auxiliaires qui nous serviront par la suite:"
   ]
  },
  {
   "cell_type": "code",
   "execution_count": 92,
   "metadata": {},
   "outputs": [],
   "source": [
    "#fonction renvoyant le gradient de la fonction passée en parametre\n",
    "def grad(f):\n",
    "    def gradient_f(x,y):\n",
    "        g = autograd.grad\n",
    "        return np.r_[g(f, 0)(x,y), g(f, 1)(x,y)]\n",
    "    return gradient_f\n",
    "\n"
   ]
  },
  {
   "cell_type": "markdown",
   "metadata": {},
   "source": [
    "__Idée:__  \n",
    "    Soit $X$ une ligne de niveau de $f$,   \n",
    "    ie $X = f^{-1} (\\{c\\}) = \\{(x,y), f(x,y) = c\\} $\n",
    "    \n",
    "Soit $ a = (x_{0}, y_{0}) \\in X $ , $v$ tangent à $X$ en $a$,  \n",
    "Il existe $\\gamma : [0,1] \\to X $ un chemin $C^1$ verifiant:  \n",
    "    $\\forall t \\in [0,1], \\gamma(t) \\in X$    \n",
    "    $\\gamma(0) = a$  \n",
    "    $\\gamma ^{'}(0) = v $\n",
    "\n",
    "alors $h : t \\to f(\\gamma(t))$ est constante sur $[0,1]$,  \n",
    "donc $d(h) = 0$ ie $ \\forall t \\in [0,1] ,  grad(f(\\gamma(t)).\\gamma^{'}(t) = 0  $  \n",
    "donc $grad(f(\\gamma(0)).\\gamma^{'}(0) = 0  $ ie $grad(f(a).v = 0 $   \n",
    "ie l'ensemble des vecteurs tangents à $X$ en $a$ est inclu dans l'ensemble des vecteurs orthogonaux au gradient de $f$ en $a$\n",
    "\n",
    "\n",
    "\n",
    "                                                                        \n",
    "                                                                        \n",
    "    "
   ]
  },
  {
   "cell_type": "markdown",
   "metadata": {},
   "source": [
    "__Idée d'implementation : __  \n",
    "  1. On commence par chercher une amorce sur l'arête gauche  \n",
    "  2. Puis on suit la normale au gradient:   \n",
    "       contraintes :   \n",
    "> Ne pas sortir du domaine de definition de f  \n",
    "> Ne pas faire demi-tour: on stocke le mouvement effectué précedemment $v$. Une fois que l'on dispose de la tangente $u$ à la ligne de niveau, on calcule le produit  scalaire $\\langle u,v\\rangle$. On souhaite avoir un angle aigu entre la direction que l'on va suivre et le vecteur mouvement précedent, ie  $ \\ \\langle u,v\\rangle \\ \\ge \\ 0$\n",
    "\n"
   ]
  },
  {
   "cell_type": "markdown",
   "metadata": {},
   "source": [
    "On va utiliser le module autograd pour calculer le gradient de f, comme defini plus haut"
   ]
  },
  {
   "cell_type": "markdown",
   "metadata": {},
   "source": [
    "On definit une fonction *__suivant__* qui à partir d'un point d'une ligne de niveau renvoie le point suivant, distant d'environ $\\delta$, ainsi que le vecteur directeur du mouvement effectué. Cette fonction corrige l'erreur dûe à l'approximation linéaire de $f$ effectuée."
   ]
  },
  {
   "cell_type": "code",
   "execution_count": 93,
   "metadata": {},
   "outputs": [],
   "source": [
    "def suivant(f, delta, position, ancien_mouv):\n",
    "    g = grad(f)\n",
    "    \n",
    "    gradient_fpos = g(position[0], position[1])\n",
    " \n",
    "    if np.vdot(gradient_fpos - (0.,0.), gradient_fpos - (0.,0.) ) < 10**(-16):\n",
    "    #gradient nul -> on ne sait plus où aller? autre solution: faire un pas de plus?\n",
    "        return [],[]\n",
    "        \n",
    "    else: \n",
    "        tangent = np.array([- gradient_fpos[1], gradient_fpos [0]]) #vecteur tangent à la ligne de niveau est normal au gradient\n",
    "    \n",
    "        angle = np.vdot(tangent, ancien_mouv)\n",
    "    #condition de non demi-tour:\n",
    "        if angle < 0: \n",
    "            tangent = -tangent\n",
    "            \n",
    "        prochain = position + delta * tangent / m.sqrt(np.vdot(tangent, tangent))\n",
    "        \n",
    "    #correction de l'erreur dûe à l'approximation lineaire:\n",
    "        while abs(f(prochain[0], prochain[1])) > 2**(-26): \n",
    "            gradient_fproch = g(prochain[0], prochain[1])\n",
    "            #df = dy/dx --> dx = dy/df\n",
    "            if f(prochain[0], prochain[1]) > 0: \n",
    "                prochain = prochain - abs(f(prochain[0], prochain[1])) * gradient_fproch / (np.vdot(gradient_fproch, gradient_fproch)) #norme au carré\n",
    "            else:\n",
    "                prochain = prochain + abs(f(prochain[0], prochain[1])) * gradient_fproch / (np.vdot(gradient_fproch, gradient_fproch))\n",
    "        \n",
    "        \n",
    "    #On verifie qu'on est toujours dans le domaine de def:\n",
    "        if prochain[0] > 1 or prochain[1] > 1 or prochain[0] < 0 or prochain[1] < 0:\n",
    "             \n",
    "            #cas particulier de l'initialisation\n",
    "            if (ancien_mouv[0], ancien_mouv[1]) == (0.,0.):\n",
    "                prochain = position - delta * tangent / m.sqrt(np.vdot(tangent, tangent))\n",
    "                \n",
    "                return prochain, (prochain-position)\n",
    "                \n",
    "            #sinon on s'arrête:\n",
    "            return [],[]\n",
    "    \n",
    "        else:\n",
    "            return prochain , (prochain-position) #on renvoie le prochain point et le vecteur mouvement"
   ]
  },
  {
   "cell_type": "markdown",
   "metadata": {},
   "source": [
    "**Probleme:** propagation des erreurs dûes à l'approximation lineaire: \n",
    "1. Idée 1: Méthode de Newton\n",
    "2. Idée 2: on regarde si on est superieur ou inferieur à $c = 0$ et on suit le gradient de f en le point $z \\in \\mathbb{R} ^{2} $ où l'on se trouve dans le bon sens (gradient orienté dans le sens des $f(x,y)$ croissants)\n",
    "\n",
    "Approximation __1D__ : $\\Delta f = \\frac{\\Delta y}{\\Delta x} $ donc $\\Delta x \\sim \\frac{\\Delta y}{\\Delta f}$   \n",
    "On se décale donc de $ \\delta \\vec r = f(z) * \\frac{\\vec{grad(f)}(z)}{||\\vec {grad(f)}(z)|| ^{2}} $"
   ]
  },
  {
   "cell_type": "markdown",
   "metadata": {},
   "source": [
    "> **Définition de *simple_contour* **  \n",
    "        Specification $ : fonction \\to float \\to float \\to array * array $"
   ]
  },
  {
   "cell_type": "code",
   "execution_count": 94,
   "metadata": {},
   "outputs": [],
   "source": [
    "def simple_contour(fun, c = 0.0, delta = 0.01):\n",
    "    #On se ramène au cas c = 0    \n",
    "    def f(x,y):\n",
    "        return fun(x,y) - c\n",
    "    \n",
    "    # trouver une amorce\n",
    "    amorce = find_seed(f, 0)\n",
    "    if not (amorce == None):\n",
    "        prochain = (0.,amorce)\n",
    "    else:\n",
    "        prochain = []\n",
    "        \n",
    "    ancien_mouv = (0.,0.)\n",
    "    fragment = []\n",
    "    i = 0\n",
    "    \n",
    "    # tant qu'on peut trouver un suivant on continue d'avancer\n",
    "    while not (prochain == []) and i<1200:\n",
    "        fragment.append(prochain)\n",
    "        prochain, ancien_mouv = suivant(f, delta, prochain, ancien_mouv)\n",
    "        i +=1\n",
    "    if fragment == []:\n",
    "        return [], []\n",
    "    else:\n",
    "        return [a[0] for a in fragment], [a[1] for a in fragment]"
   ]
  },
  {
   "cell_type": "markdown",
   "metadata": {},
   "source": [
    "On verifie que notre fonction est correcte et termine en l'appliquant à $f : x,y \\in [0,1]^{2} \\to x^2 +y^2 $\n",
    "On commence par tester sans la correction d'erreur, puis on verifie que ladite correction fait bien son travail."
   ]
  },
  {
   "cell_type": "code",
   "execution_count": 95,
   "metadata": {},
   "outputs": [],
   "source": [
    "#On utilise une version de suivant qui ne corrige pas l'erreur\n",
    "#On a aussi supprimé la condition sur le domaine pour plus de visibilité\n",
    "\n",
    "def suivant_sanscorrection(f, delta, position, ancien_mouv):\n",
    "    g = grad(f)\n",
    "    gradient_fpos = g(position[0], position[1])\n",
    "    if np.vdot(gradient_fpos - (0.,0.), gradient_fpos - (0.,0.) ) < 10**(-16):\n",
    "        return [],[]\n",
    "    else: \n",
    "        tangent = np.array([- gradient_fpos[1], gradient_fpos [0]])\n",
    "        angle = np.vdot(tangent, ancien_mouv)\n",
    "        if angle < 0:\n",
    "            tangent = -tangent\n",
    "        prochain = position + delta * tangent / m.sqrt(np.vdot(tangent, tangent))\n",
    "        return prochain , (prochain-position)\n",
    "    \n",
    "\n",
    "def simple_contour_sanscorrection(fun, c = 0.0, delta = 0.01):\n",
    "    def f(x,y):\n",
    "        return fun(x,y) - c\n",
    "    amorce = find_seed(f, 0)\n",
    "    if not (amorce == None):\n",
    "        prochain = (0.,amorce)\n",
    "    else:\n",
    "        prochain = []\n",
    "    ancien_mouv = (0.,0.)\n",
    "    fragment = []\n",
    "    i = 0\n",
    "    while not (prochain == []) and i<1200:\n",
    "        fragment.append(prochain)\n",
    "        prochain, ancien_mouv = suivant_sanscorrection(f, delta, prochain, ancien_mouv)\n",
    "        i +=1\n",
    "    if fragment == []:\n",
    "        return [], []\n",
    "    else:\n",
    "        return [a[0] for a in fragment], [a[1] for a in fragment]\n",
    "    \n",
    "    \n",
    "    \n",
    "def suivant_sansdomaine(f, delta, position, ancien_mouv):\n",
    "    g = grad(f)\n",
    "    gradient_fpos = g(position[0], position[1])\n",
    "    if np.vdot(gradient_fpos - (0.,0.), gradient_fpos - (0.,0.) ) < 10**(-16):\n",
    "        return [],[]  \n",
    "    else: \n",
    "        tangent = np.array([- gradient_fpos[1], gradient_fpos [0]])\n",
    "        angle = np.vdot(tangent, ancien_mouv)\n",
    "        if angle < 0:\n",
    "            tangent = -tangent \n",
    "        prochain = position + delta * tangent / m.sqrt(np.vdot(tangent, tangent))      \n",
    "        while abs(f(prochain[0], prochain[1])) > 2**(-26):\n",
    "            gradient_fproch = g(prochain[0], prochain[1])\n",
    "            if f(prochain[0], prochain[1]) > 0:\n",
    "                prochain = prochain - abs(f(prochain[0], prochain[1])) * gradient_fproch / (np.vdot(gradient_fproch, gradient_fproch)) #norme au carré\n",
    "            else:\n",
    "                prochain = prochain + abs(f(prochain[0], prochain[1])) * gradient_fproch / (np.vdot(gradient_fproch, gradient_fproch))\n",
    "        return prochain , (prochain-position)\n",
    "    \n",
    "def simple_contour_sansdomaine(fun, c = 0.0, delta = 0.01):\n",
    "    def f(x,y):\n",
    "        return fun(x,y) - c\n",
    "    amorce = find_seed(f, 0)\n",
    "    if not (amorce == None):\n",
    "        prochain = (0.,amorce)\n",
    "    else:\n",
    "        prochain = []\n",
    "    ancien_mouv = (0.,0.)\n",
    "    fragment = []\n",
    "    i = 0\n",
    "    while not (prochain == []) and i<1200:\n",
    "        fragment.append(prochain)\n",
    "        prochain, ancien_mouv = suivant_sansdomaine(f, delta, prochain, ancien_mouv)\n",
    "        i +=1\n",
    "    if fragment == []:\n",
    "        return [], []\n",
    "    else:\n",
    "        return [a[0] for a in fragment], [a[1] for a in fragment]\n",
    "    \n",
    "def f(x,y):\n",
    "    return x**2 + y**2\n"
   ]
  },
  {
   "cell_type": "code",
   "execution_count": 96,
   "metadata": {},
   "outputs": [
    {
     "name": "stderr",
     "output_type": "stream",
     "text": [
      "C:\\ProgramData\\Anaconda3\\lib\\site-packages\\ipykernel_launcher.py:29: DeprecationWarning: elementwise == comparison failed; this will raise an error in the future.\n"
     ]
    },
    {
     "data": {
      "image/png": "[encoded data removed]",
      "text/plain": [
       "<Figure size 432x288 with 1 Axes>"
      ]
     },
     "metadata": {},
     "output_type": "display_data"
    }
   ],
   "source": [
    "#Resultat sans correction d'erreur\n",
    "x,y = simple_contour_sanscorrection(f, 0.8)\n",
    "plt.plot(x,y)\n",
    "plt.show()"
   ]
  },
  {
   "cell_type": "code",
   "execution_count": 97,
   "metadata": {},
   "outputs": [
    {
     "name": "stderr",
     "output_type": "stream",
     "text": [
      "C:\\ProgramData\\Anaconda3\\lib\\site-packages\\ipykernel_launcher.py:70: DeprecationWarning: elementwise == comparison failed; this will raise an error in the future.\n"
     ]
    },
    {
     "data": {
      "image/png": "[encoded data removed]",
      "text/plain": [
       "<Figure size 432x288 with 1 Axes>"
      ]
     },
     "metadata": {},
     "output_type": "display_data"
    }
   ],
   "source": [
    "#Resultat avec correction de l'erreur\n",
    "x,y = simple_contour_sansdomaine(f, 0.8)\n",
    "plt.plot(x,y)\n",
    "plt.show()"
   ]
  },
  {
   "cell_type": "markdown",
   "metadata": {},
   "source": [
    "**On est satisfaits du résultat**"
   ]
  },
  {
   "cell_type": "code",
   "execution_count": 98,
   "metadata": {},
   "outputs": [
    {
     "name": "stderr",
     "output_type": "stream",
     "text": [
      "C:\\ProgramData\\Anaconda3\\lib\\site-packages\\ipykernel_launcher.py:18: DeprecationWarning: elementwise == comparison failed; this will raise an error in the future.\n"
     ]
    },
    {
     "data": {
      "image/png": "[encoded data removed]",
      "text/plain": [
       "<Figure size 432x288 with 1 Axes>"
      ]
     },
     "metadata": {},
     "output_type": "display_data"
    }
   ],
   "source": [
    "#On appelle la veritable fonction simple_contour:\n",
    "x,y = simple_contour(f, 0.8)\n",
    "plt.plot(x,y)\n",
    "plt.show()"
   ]
  },
  {
   "cell_type": "markdown",
   "metadata": {},
   "source": [
    "## Contour Complexe"
   ]
  },
  {
   "cell_type": "markdown",
   "metadata": {},
   "source": [
    "__Idée : __  \n",
    "On va découper le domaine de définition de $f$ en un quadrillage de pas connu, puis on va appliquer la démarche précedente sur chaque élément de maillage, à la difference près que nous chercherons cette fois ci les amorces sur tout le pourtour du domaine. \n",
    "\n",
    "On commence donc par redéfinir *__find_seeds__* de telle sorte que cette fonction renvoie desormais la liste de toutes amorces trouvées, ie les intersections entre la ligne de niveau cherchée et le contour de la case.\n",
    "Puis on calcule chaque fragment.\n",
    "- **Remarques: **   \n",
    "    On risque de calculer plusieurs fois le même fragment   \n",
    "    On va trouver plusieurs fois les mêmes amorces en appliquant la méthode sur des cases adjacentes, une amelioration possible serait une version mémoïsée.\n"
   ]
  },
  {
   "cell_type": "markdown",
   "metadata": {},
   "source": [
    "> **find_seedmodif** \n",
    "> Prend en paramètre les coordonnées de la case, et renvoie la liste des amorces trouvées sur le pourtour\n",
    "\n",
    "Les cotés de la case sont ainsi numérotés:  \n",
    "`  .\n",
    "                   _4__\n",
    "                  |    |\n",
    "                 1|____|2 \n",
    "                     3                   `"
   ]
  },
  {
   "cell_type": "code",
   "execution_count": 99,
   "metadata": {},
   "outputs": [],
   "source": [
    "def find_seedmodif(f, indice_xmin, indice_ymin, xc, yc, c = 0., eps = 2**(-26)):\n",
    "    i=indice_xmin\n",
    "    j=indice_ymin\n",
    "    seeds = []\n",
    "    l = [lambda y : f(xc[i],y), lambda y : f(xc[i+1],y), lambda x : f(x,yc[j]), lambda x : f(x,yc[j+1])]\n",
    "    \n",
    "              #     _4__\n",
    "               #   |    |\n",
    "                # 1|    |2\n",
    "                 #  _3__\n",
    "                    \n",
    "    for k in range(4):\n",
    "        g = l[k]\n",
    "        if k < 2:\n",
    "            \n",
    "            x = xc[i] * (k==0) + xc[i+1] * (k==1)\n",
    "            if (c -g(yc[j])) * (c -g(yc[j+1])) == 0:\n",
    "                y =  yc[j]* (c -g(yc[j])) + yc[j+1] * ((c -g(yc[j+1])) == 0)\n",
    "                seeds.append((x,y))\n",
    "                \n",
    "            elif (c -g(yc[j])) * (c -g(yc[j+1])) <0:\n",
    "                a , b = yc[j], yc[j+1]\n",
    "                while abs(b - a) > eps: \n",
    "                    a, b = b, a - (b - a) / (g(b) - g(a)) * g(a)\n",
    "                seeds.append((x, b))\n",
    "                \n",
    "        else:\n",
    "            y = yc[j] * (k==2) + yc[j+1] * (k==3)\n",
    "            if (c -g(xc[i])) * (c -g(xc[i+1])) == 0:\n",
    "                x =  xc[i]* (c -g(xc[i])) + xc[i+1] * ((c -g(xc[i+1])) == 0)\n",
    "                seeds.append((x,y))\n",
    "                \n",
    "            elif (c -g(xc[i])) * (c -g(xc[i+1])) <0:\n",
    "                a , b = xc[i], xc[i+1]\n",
    "                while abs(b - a) > eps: \n",
    "                    a, b = b, a - (b - a) / (g(b) - g(a)) * g(a)\n",
    "                seeds.append((b, y))\n",
    "                \n",
    "    return seeds"
   ]
  },
  {
   "cell_type": "markdown",
   "metadata": {},
   "source": [
    "> *__suivant_complexe__* Des modifications minimes apportées à la partie domaine de définition\n",
    "\n",
    "__Remarque :__ On aurait pu concevoir des fonctions plus modulaires dès le début pour éviter d'avoir à tout redéfinir. En réalité les fonctions *_complexe* sont des généralisations de la première partie."
   ]
  },
  {
   "cell_type": "code",
   "execution_count": 100,
   "metadata": {},
   "outputs": [],
   "source": [
    "def suivant_complexe(f, xc, yc, delta, position, ancien_mouv, indice_xmin, indice_ymin):\n",
    "    xmin = xc[indice_xmin]\n",
    "    xmax = xc[indice_xmin +1]\n",
    "    ymin = yc[indice_ymin]\n",
    "    ymax = yc[indice_ymin +1]\n",
    "    g = grad(f)\n",
    "    \n",
    "    gradient_fpos = g(position[0], position[1])\n",
    " \n",
    "    if np.vdot(gradient_fpos - (0.,0.), gradient_fpos - (0.,0.) ) < 10**(-16):\n",
    "        return [],[]\n",
    "        \n",
    "    else: \n",
    "    #vecteur tangent à la ligne de niveau est normal au gradient\n",
    "        tangent = np.array([- gradient_fpos[1], gradient_fpos [0]])\n",
    "        angle = np.vdot(tangent, ancien_mouv)\n",
    "        \n",
    "        if angle < 0:\n",
    "            tangent = -tangent\n",
    "            \n",
    "        prochain = position + delta * tangent / m.sqrt(np.vdot(tangent, tangent))\n",
    "        \n",
    "    # correction des erreurs approximation lineaire:      \n",
    "        while abs(f(prochain[0], prochain[1])) > 2**(-26):\n",
    "            gradient_fproch = g(prochain[0], prochain[1])\n",
    "            if f(prochain[0], prochain[1]) > 0:\n",
    "                \n",
    "                prochain = prochain - abs(f(prochain[0], prochain[1])) * gradient_fproch / (np.vdot(gradient_fproch, gradient_fproch)) #norme au carré\n",
    "            else:\n",
    "                prochain = prochain + abs(f(prochain[0], prochain[1])) * gradient_fproch / (np.vdot(gradient_fproch, gradient_fproch))\n",
    "        \n",
    "    #On verifie qu'on est toujours dans le domaine de def\n",
    "        if prochain[0] > xmax or prochain[1] > ymax or prochain[0] < xmin or prochain[1] < ymin:\n",
    "             \n",
    "            #cas particulier de l'initialisation\n",
    "            if (ancien_mouv[0], ancien_mouv[1]) == (0.,0.):\n",
    "                prochain = position - delta * tangent / m.sqrt(np.vdot(tangent, tangent))\n",
    "                \n",
    "                return prochain, (prochain-position)\n",
    "                \n",
    "            #sinon on s'arrête:\n",
    "            return [],[]\n",
    "    \n",
    "        else:\n",
    "            return prochain , (prochain-position)"
   ]
  },
  {
   "cell_type": "markdown",
   "metadata": {},
   "source": [
    "> **Définition de *simple_contour_case* **  \n",
    "        Cette fonction joue le rôle de simple_contour mais pour un domaine quelconque  \n",
    "        Specification $ : fonction \\to float \\to float \\to float \\to float \\to float \\to float \\to (array \\  array) * (array \\  array) $"
   ]
  },
  {
   "cell_type": "code",
   "execution_count": 101,
   "metadata": {},
   "outputs": [],
   "source": [
    "def simple_contour_case(fun,indice_xmin, indice_ymin, xc, yc, c = 0.0, delta = 0.01):\n",
    "    fragmentS_x= []\n",
    "    fragmentS_y= []\n",
    "    amorces = find_seedmodif(fun, indice_xmin, indice_ymin, xc, yc, c= 0)\n",
    "    for prochain in amorces:\n",
    "        ancien_mouv = (0.,0.)\n",
    "        fragment = []\n",
    "        \n",
    "        while not (prochain == []): \n",
    "            fragment.append(prochain)\n",
    "            prochain, ancien_mouv = suivant_complexe(fun, xc, yc, delta, prochain, ancien_mouv, indice_xmin, indice_ymin)\n",
    "        \n",
    "        fragmentS_x.append([a[0] for a in fragment])\n",
    "        fragmentS_y.append([a[1] for a in fragment])\n",
    "        \n",
    "    return fragmentS_x, fragmentS_y"
   ]
  },
  {
   "cell_type": "markdown",
   "metadata": {},
   "source": [
    "> **Définition de *contour* **  \n",
    "        Cette fonction applique simple_contour_case à chaque case du maillage, et renvoie un couple de listes de listes de points de fragments. Les tableaux 1D $xs$ et $ys$ renvoyés par la fonction contour ne décrivent pas un fragment de contour, mais un ensemble de tels fragments: Les valeurs $ x = xs[i]$ et $y = ys[i]$ représentent un fragment de contour de $f$.  \n",
    "        Specification $ : fonction \\to float \\to float \\  list \\to float \\  list \\to float \\to (float \\ array \\  array) * (float \\ array \\  array) $"
   ]
  },
  {
   "cell_type": "code",
   "execution_count": 102,
   "metadata": {},
   "outputs": [],
   "source": [
    "def contour(fun, c = 0.0, xc = [0.0, 1.0], yc = [0.0, 1.0], delta = 0.01):\n",
    "    def f(x,y):\n",
    "        return fun(x,y) - c\n",
    "    xs = []\n",
    "    ys = []\n",
    "    for i in range(len(xc) - 1):\n",
    "        for j in range(len(yc) -1):\n",
    "            fragX, fragY = simple_contour_case(f,i, j, xc, yc, c = 0.0, delta = 0.01)\n",
    "            xs = xs + fragX\n",
    "            ys = ys + fragY\n",
    "            \n",
    "    return xs, ys"
   ]
  },
  {
   "cell_type": "markdown",
   "metadata": {},
   "source": [
    "On définit aussi une fonction d'affichage:"
   ]
  },
  {
   "cell_type": "code",
   "execution_count": 103,
   "metadata": {},
   "outputs": [],
   "source": [
    "def affichefragment(xs, ys):\n",
    "    for x, y in zip(xs, ys):\n",
    "        plt.plot(x,y)\n",
    "    plt.show()"
   ]
  },
  {
   "cell_type": "markdown",
   "metadata": {},
   "source": [
    "On peut enfin verifier que notre fonction est correcte sur l'exemple du sujet:"
   ]
  },
  {
   "cell_type": "code",
   "execution_count": 104,
   "metadata": {},
   "outputs": [],
   "source": [
    "def h(x,y):\n",
    "    return np.exp(-x**2 - y**2)\n",
    "    \n",
    "def g(x,y):\n",
    "    return np.exp(-(x-1)**2 - (y-1)**2)\n",
    "\n",
    "def fonction_sujet(x,y):\n",
    "    return h(x,y) + h(x,y) - g(x,y)\n",
    "\n",
    "#Domaine de definition:\n",
    "X = np.linspace(-2,3)\n",
    "Y = np.linspace(-1,2)\n",
    "\n",
    "#fonction test\n",
    "def test_sujet():\n",
    "    values_c = [-1.5,-1.,-0.5,0.0, 0.5, 1.0, 1.5]\n",
    "    xs,ys = [],[]\n",
    "    for cv in values_c:\n",
    "        x,y = contour(fonction_sujet, c = cv, xc = X, yc = Y)\n",
    "        xs = xs + x\n",
    "        ys = ys + y\n",
    "    affichefragment(xs, ys)"
   ]
  },
  {
   "cell_type": "markdown",
   "metadata": {},
   "source": [
    "__Le test:__"
   ]
  },
  {
   "cell_type": "code",
   "execution_count": 105,
   "metadata": {},
   "outputs": [
    {
     "name": "stderr",
     "output_type": "stream",
     "text": [
      "C:\\ProgramData\\Anaconda3\\lib\\site-packages\\ipykernel_launcher.py:9: DeprecationWarning: elementwise == comparison failed; this will raise an error in the future.\n",
      "  if __name__ == '__main__':\n"
     ]
    },
    {
     "data": {
      "image/png": "[encoded data removed]",
      "text/plain": [
       "<Figure size 432x288 with 1 Axes>"
      ]
     },
     "metadata": {},
     "output_type": "display_data"
    }
   ],
   "source": [
    "test_sujet()"
   ]
  },
  {
   "cell_type": "markdown",
   "metadata": {},
   "source": [
    "Ça fonctionne!"
   ]
  },
  {
   "cell_type": "code",
   "execution_count": null,
   "metadata": {},
   "outputs": [],
   "source": []
  }
 ],
 "metadata": {
  "kernelspec": {
   "display_name": "Python 3",
   "language": "python",
   "name": "python3"
  },
  "language_info": {
   "codemirror_mode": {
    "name": "ipython",
    "version": 3
   },
   "file_extension": ".py",
   "mimetype": "text/x-python",
   "name": "python",
   "nbconvert_exporter": "python",
   "pygments_lexer": "ipython3",
   "version": "3.6.5"
  }
 },
 "nbformat": 4,
 "nbformat_minor": 2
}
